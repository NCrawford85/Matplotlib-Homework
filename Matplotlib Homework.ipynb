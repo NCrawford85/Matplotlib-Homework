{
 "cells": [
  {
   "cell_type": "markdown",
   "metadata": {},
   "source": [
    "## Observations and Insights"
   ]
  },
  {
   "cell_type": "markdown",
   "metadata": {},
   "source": []
  },
  {
   "cell_type": "markdown",
   "metadata": {},
   "source": [
    "## Dependencies and starter code"
   ]
  },
  {
   "cell_type": "code",
   "execution_count": 369,
   "metadata": {},
   "outputs": [],
   "source": [
    "# Dependencies and Setup\n",
    "import matplotlib.pyplot as plt\n",
    "import pandas as pd\n",
    "import numpy as np\n",
    "import scipy.stats as st\n",
    "from scipy.stats import linregress\n",
    "\n",
    "# Study data files\n",
    "mouse_metadata = \"data/Mouse_metadata.csv\"\n",
    "study_results = \"data/Study_results.csv\"\n",
    "\n",
    "# Read the mouse data and the study results\n",
    "mouse_metadata = pd.read_csv(mouse_metadata)\n",
    "study_results = pd.read_csv(study_results)\n",
    "\n",
    "# Combine the data into a single dataset"
   ]
  },
  {
   "cell_type": "code",
   "execution_count": 419,
   "metadata": {},
   "outputs": [
    {
     "name": "stdout",
     "output_type": "stream",
     "text": [
      "A few Conclusions from the data:\n",
      "Capomulin shows promise as trials indicated tumor size shrunk steadily over time for mice treated with this regimen.\n",
      "Capomulin along with Ramicane had the fewest outliers of the promising drugs, meaning they are consistently achieving results.\n",
      "The mice used in the study were a nearly perfect split of male and female, which should show accurate efficacy of the drugs across both genders.\n"
     ]
    }
   ],
   "source": [
    "print(f\"A few Conclusions from the data:\")\n",
    "print(f\"Capomulin shows promise as trials indicated tumor size shrunk steadily over time for mice treated with this regimen.\")\n",
    "print(f\"Capomulin along with Ramicane had the fewest outliers of the promising drugs, meaning they are consistently achieving results.\")\n",
    "print(f\"The mice used in the study were a nearly perfect split of male and female, which should show accurate efficacy of the drugs across both genders.\")"
   ]
  },
  {
   "cell_type": "markdown",
   "metadata": {},
   "source": [
    "## Summary statistics"
   ]
  },
  {
   "cell_type": "code",
   "execution_count": 370,
   "metadata": {},
   "outputs": [],
   "source": [
    "# Generate a summary statistics table of mean, median, variance, standard deviation, and SEM of the tumor volume for each regimen"
   ]
  },
  {
   "cell_type": "code",
   "execution_count": 371,
   "metadata": {},
   "outputs": [],
   "source": [
    "#looking at data to see column names etc.\n",
    "#mouse_metadata\n",
    "#study_results"
   ]
  },
  {
   "cell_type": "code",
   "execution_count": 372,
   "metadata": {},
   "outputs": [
    {
     "data": {
      "text/html": [
       "<div>\n",
       "<style scoped>\n",
       "    .dataframe tbody tr th:only-of-type {\n",
       "        vertical-align: middle;\n",
       "    }\n",
       "\n",
       "    .dataframe tbody tr th {\n",
       "        vertical-align: top;\n",
       "    }\n",
       "\n",
       "    .dataframe thead th {\n",
       "        text-align: right;\n",
       "    }\n",
       "</style>\n",
       "<table border=\"1\" class=\"dataframe\">\n",
       "  <thead>\n",
       "    <tr style=\"text-align: right;\">\n",
       "      <th></th>\n",
       "      <th>Mouse ID</th>\n",
       "      <th>Drug Regimen</th>\n",
       "      <th>Sex</th>\n",
       "      <th>Age_months</th>\n",
       "      <th>Weight (g)</th>\n",
       "      <th>Timepoint</th>\n",
       "      <th>Tumor Volume (mm3)</th>\n",
       "      <th>Metastatic Sites</th>\n",
       "    </tr>\n",
       "  </thead>\n",
       "  <tbody>\n",
       "    <tr>\n",
       "      <td>0</td>\n",
       "      <td>k403</td>\n",
       "      <td>Ramicane</td>\n",
       "      <td>Male</td>\n",
       "      <td>21</td>\n",
       "      <td>16</td>\n",
       "      <td>0</td>\n",
       "      <td>45.000000</td>\n",
       "      <td>0</td>\n",
       "    </tr>\n",
       "    <tr>\n",
       "      <td>1</td>\n",
       "      <td>k403</td>\n",
       "      <td>Ramicane</td>\n",
       "      <td>Male</td>\n",
       "      <td>21</td>\n",
       "      <td>16</td>\n",
       "      <td>5</td>\n",
       "      <td>38.825898</td>\n",
       "      <td>0</td>\n",
       "    </tr>\n",
       "    <tr>\n",
       "      <td>2</td>\n",
       "      <td>k403</td>\n",
       "      <td>Ramicane</td>\n",
       "      <td>Male</td>\n",
       "      <td>21</td>\n",
       "      <td>16</td>\n",
       "      <td>10</td>\n",
       "      <td>35.014271</td>\n",
       "      <td>1</td>\n",
       "    </tr>\n",
       "    <tr>\n",
       "      <td>3</td>\n",
       "      <td>k403</td>\n",
       "      <td>Ramicane</td>\n",
       "      <td>Male</td>\n",
       "      <td>21</td>\n",
       "      <td>16</td>\n",
       "      <td>15</td>\n",
       "      <td>34.223992</td>\n",
       "      <td>1</td>\n",
       "    </tr>\n",
       "    <tr>\n",
       "      <td>4</td>\n",
       "      <td>k403</td>\n",
       "      <td>Ramicane</td>\n",
       "      <td>Male</td>\n",
       "      <td>21</td>\n",
       "      <td>16</td>\n",
       "      <td>20</td>\n",
       "      <td>32.997729</td>\n",
       "      <td>1</td>\n",
       "    </tr>\n",
       "    <tr>\n",
       "      <td>...</td>\n",
       "      <td>...</td>\n",
       "      <td>...</td>\n",
       "      <td>...</td>\n",
       "      <td>...</td>\n",
       "      <td>...</td>\n",
       "      <td>...</td>\n",
       "      <td>...</td>\n",
       "      <td>...</td>\n",
       "    </tr>\n",
       "    <tr>\n",
       "      <td>1888</td>\n",
       "      <td>z969</td>\n",
       "      <td>Naftisol</td>\n",
       "      <td>Male</td>\n",
       "      <td>9</td>\n",
       "      <td>30</td>\n",
       "      <td>25</td>\n",
       "      <td>63.145652</td>\n",
       "      <td>2</td>\n",
       "    </tr>\n",
       "    <tr>\n",
       "      <td>1889</td>\n",
       "      <td>z969</td>\n",
       "      <td>Naftisol</td>\n",
       "      <td>Male</td>\n",
       "      <td>9</td>\n",
       "      <td>30</td>\n",
       "      <td>30</td>\n",
       "      <td>65.841013</td>\n",
       "      <td>3</td>\n",
       "    </tr>\n",
       "    <tr>\n",
       "      <td>1890</td>\n",
       "      <td>z969</td>\n",
       "      <td>Naftisol</td>\n",
       "      <td>Male</td>\n",
       "      <td>9</td>\n",
       "      <td>30</td>\n",
       "      <td>35</td>\n",
       "      <td>69.176246</td>\n",
       "      <td>4</td>\n",
       "    </tr>\n",
       "    <tr>\n",
       "      <td>1891</td>\n",
       "      <td>z969</td>\n",
       "      <td>Naftisol</td>\n",
       "      <td>Male</td>\n",
       "      <td>9</td>\n",
       "      <td>30</td>\n",
       "      <td>40</td>\n",
       "      <td>70.314904</td>\n",
       "      <td>4</td>\n",
       "    </tr>\n",
       "    <tr>\n",
       "      <td>1892</td>\n",
       "      <td>z969</td>\n",
       "      <td>Naftisol</td>\n",
       "      <td>Male</td>\n",
       "      <td>9</td>\n",
       "      <td>30</td>\n",
       "      <td>45</td>\n",
       "      <td>73.867845</td>\n",
       "      <td>4</td>\n",
       "    </tr>\n",
       "  </tbody>\n",
       "</table>\n",
       "<p>1893 rows × 8 columns</p>\n",
       "</div>"
      ],
      "text/plain": [
       "     Mouse ID Drug Regimen   Sex  Age_months  Weight (g)  Timepoint  \\\n",
       "0        k403     Ramicane  Male          21          16          0   \n",
       "1        k403     Ramicane  Male          21          16          5   \n",
       "2        k403     Ramicane  Male          21          16         10   \n",
       "3        k403     Ramicane  Male          21          16         15   \n",
       "4        k403     Ramicane  Male          21          16         20   \n",
       "...       ...          ...   ...         ...         ...        ...   \n",
       "1888     z969     Naftisol  Male           9          30         25   \n",
       "1889     z969     Naftisol  Male           9          30         30   \n",
       "1890     z969     Naftisol  Male           9          30         35   \n",
       "1891     z969     Naftisol  Male           9          30         40   \n",
       "1892     z969     Naftisol  Male           9          30         45   \n",
       "\n",
       "      Tumor Volume (mm3)  Metastatic Sites  \n",
       "0              45.000000                 0  \n",
       "1              38.825898                 0  \n",
       "2              35.014271                 1  \n",
       "3              34.223992                 1  \n",
       "4              32.997729                 1  \n",
       "...                  ...               ...  \n",
       "1888           63.145652                 2  \n",
       "1889           65.841013                 3  \n",
       "1890           69.176246                 4  \n",
       "1891           70.314904                 4  \n",
       "1892           73.867845                 4  \n",
       "\n",
       "[1893 rows x 8 columns]"
      ]
     },
     "execution_count": 372,
     "metadata": {},
     "output_type": "execute_result"
    }
   ],
   "source": [
    "#merge the two data frames\n",
    "combined_results = pd.merge(mouse_metadata, study_results, on='Mouse ID')\n",
    "combined_results"
   ]
  },
  {
   "cell_type": "code",
   "execution_count": 373,
   "metadata": {},
   "outputs": [
    {
     "data": {
      "text/html": [
       "<div>\n",
       "<style scoped>\n",
       "    .dataframe tbody tr th:only-of-type {\n",
       "        vertical-align: middle;\n",
       "    }\n",
       "\n",
       "    .dataframe tbody tr th {\n",
       "        vertical-align: top;\n",
       "    }\n",
       "\n",
       "    .dataframe thead tr th {\n",
       "        text-align: left;\n",
       "    }\n",
       "\n",
       "    .dataframe thead tr:last-of-type th {\n",
       "        text-align: right;\n",
       "    }\n",
       "</style>\n",
       "<table border=\"1\" class=\"dataframe\">\n",
       "  <thead>\n",
       "    <tr>\n",
       "      <th></th>\n",
       "      <th colspan=\"5\" halign=\"left\">Tumor Volume (mm3)</th>\n",
       "    </tr>\n",
       "    <tr>\n",
       "      <th></th>\n",
       "      <th>mean</th>\n",
       "      <th>median</th>\n",
       "      <th>var</th>\n",
       "      <th>std</th>\n",
       "      <th>sem</th>\n",
       "    </tr>\n",
       "    <tr>\n",
       "      <th>Drug Regimen</th>\n",
       "      <th></th>\n",
       "      <th></th>\n",
       "      <th></th>\n",
       "      <th></th>\n",
       "      <th></th>\n",
       "    </tr>\n",
       "  </thead>\n",
       "  <tbody>\n",
       "    <tr>\n",
       "      <td>Capomulin</td>\n",
       "      <td>40.675741</td>\n",
       "      <td>41.557809</td>\n",
       "      <td>24.947764</td>\n",
       "      <td>4.994774</td>\n",
       "      <td>0.329346</td>\n",
       "    </tr>\n",
       "    <tr>\n",
       "      <td>Ceftamin</td>\n",
       "      <td>52.591172</td>\n",
       "      <td>51.776157</td>\n",
       "      <td>39.290177</td>\n",
       "      <td>6.268188</td>\n",
       "      <td>0.469821</td>\n",
       "    </tr>\n",
       "    <tr>\n",
       "      <td>Infubinol</td>\n",
       "      <td>52.884795</td>\n",
       "      <td>51.820584</td>\n",
       "      <td>43.128684</td>\n",
       "      <td>6.567243</td>\n",
       "      <td>0.492236</td>\n",
       "    </tr>\n",
       "    <tr>\n",
       "      <td>Ketapril</td>\n",
       "      <td>55.235638</td>\n",
       "      <td>53.698743</td>\n",
       "      <td>68.553577</td>\n",
       "      <td>8.279709</td>\n",
       "      <td>0.603860</td>\n",
       "    </tr>\n",
       "    <tr>\n",
       "      <td>Naftisol</td>\n",
       "      <td>54.331565</td>\n",
       "      <td>52.509285</td>\n",
       "      <td>66.173479</td>\n",
       "      <td>8.134708</td>\n",
       "      <td>0.596466</td>\n",
       "    </tr>\n",
       "    <tr>\n",
       "      <td>Placebo</td>\n",
       "      <td>54.033581</td>\n",
       "      <td>52.288934</td>\n",
       "      <td>61.168083</td>\n",
       "      <td>7.821003</td>\n",
       "      <td>0.581331</td>\n",
       "    </tr>\n",
       "    <tr>\n",
       "      <td>Propriva</td>\n",
       "      <td>52.322552</td>\n",
       "      <td>50.854632</td>\n",
       "      <td>42.351070</td>\n",
       "      <td>6.507770</td>\n",
       "      <td>0.512884</td>\n",
       "    </tr>\n",
       "    <tr>\n",
       "      <td>Ramicane</td>\n",
       "      <td>40.216745</td>\n",
       "      <td>40.673236</td>\n",
       "      <td>23.486704</td>\n",
       "      <td>4.846308</td>\n",
       "      <td>0.320955</td>\n",
       "    </tr>\n",
       "    <tr>\n",
       "      <td>Stelasyn</td>\n",
       "      <td>54.233149</td>\n",
       "      <td>52.431737</td>\n",
       "      <td>59.450562</td>\n",
       "      <td>7.710419</td>\n",
       "      <td>0.573111</td>\n",
       "    </tr>\n",
       "    <tr>\n",
       "      <td>Zoniferol</td>\n",
       "      <td>53.236507</td>\n",
       "      <td>51.818479</td>\n",
       "      <td>48.533355</td>\n",
       "      <td>6.966589</td>\n",
       "      <td>0.516398</td>\n",
       "    </tr>\n",
       "  </tbody>\n",
       "</table>\n",
       "</div>"
      ],
      "text/plain": [
       "             Tumor Volume (mm3)                                          \n",
       "                           mean     median        var       std       sem\n",
       "Drug Regimen                                                             \n",
       "Capomulin             40.675741  41.557809  24.947764  4.994774  0.329346\n",
       "Ceftamin              52.591172  51.776157  39.290177  6.268188  0.469821\n",
       "Infubinol             52.884795  51.820584  43.128684  6.567243  0.492236\n",
       "Ketapril              55.235638  53.698743  68.553577  8.279709  0.603860\n",
       "Naftisol              54.331565  52.509285  66.173479  8.134708  0.596466\n",
       "Placebo               54.033581  52.288934  61.168083  7.821003  0.581331\n",
       "Propriva              52.322552  50.854632  42.351070  6.507770  0.512884\n",
       "Ramicane              40.216745  40.673236  23.486704  4.846308  0.320955\n",
       "Stelasyn              54.233149  52.431737  59.450562  7.710419  0.573111\n",
       "Zoniferol             53.236507  51.818479  48.533355  6.966589  0.516398"
      ]
     },
     "execution_count": 373,
     "metadata": {},
     "output_type": "execute_result"
    }
   ],
   "source": [
    "#use .agg to generate a summary data table for mean, median, var, std, and sem of tumor volume\n",
    "summary_pd = combined_results.groupby(\"Drug Regimen\").agg({'Tumor Volume (mm3)':[\"mean\",\"median\",\"var\",\"std\",\"sem\"]})\n",
    "summary_pd"
   ]
  },
  {
   "cell_type": "markdown",
   "metadata": {},
   "source": [
    "## Bar plots"
   ]
  },
  {
   "cell_type": "code",
   "execution_count": 385,
   "metadata": {},
   "outputs": [
    {
     "data": {
      "image/png": "[encoded data removed]",
      "text/plain": [
       "<Figure size 432x288 with 1 Axes>"
      ]
     },
     "metadata": {
      "needs_background": "light"
     },
     "output_type": "display_data"
    }
   ],
   "source": [
    "# Generate a bar plot showing number of data points for each treatment regimen using pandas\n",
    "combined_results\n",
    "data_points = combined_results.groupby(['Drug Regimen'])['Mouse ID'].count()\n",
    "#plot the chart\n",
    "data_points.plot.bar()\n",
    "\n",
    "# Set a title for the plot\n",
    "plt.title(\"Data Points By Drug\")\n",
    "#shot the plot\n",
    "plt.show()\n"
   ]
  },
  {
   "cell_type": "code",
   "execution_count": 409,
   "metadata": {},
   "outputs": [
    {
     "data": {
      "image/png": "[encoded data removed]",
      "text/plain": [
       "<Figure size 432x288 with 1 Axes>"
      ]
     },
     "metadata": {
      "needs_background": "light"
     },
     "output_type": "display_data"
    }
   ],
   "source": [
    "# Generate a bar plot showing number of data points for each treatment regimen using pyplot\n",
    "#create a list of the drugs for tick labels\n",
    "drug_count = combined_results['Drug Regimen'].unique()\n",
    "#drug_count\n",
    "#make a list of the data points for count of data points for each drug\n",
    "data_points = combined_results.groupby(['Drug Regimen']).count()\n",
    "data = data_points['Mouse ID']\n",
    "#make a list of the data points\n",
    "data = data.values.tolist()\n",
    "#check the list and df\n",
    "#data\n",
    "#data_points.head(10)\n",
    "#set x axis\n",
    "x_axis = np.arange(len(drug_count))\n",
    "\n",
    "#make a variable for the x labels by sorting the list of drugs\n",
    "drug_labels = sorted(drug_count)\n",
    "#plot the chart\n",
    "plt.bar(x_axis,data)\n",
    "#add the tick values and label them with the drugs\n",
    "plt.xticks(x_axis, drug_labels, rotation=45)\n",
    "plt.show()"
   ]
  },
  {
   "cell_type": "markdown",
   "metadata": {},
   "source": [
    "## Pie plots"
   ]
  },
  {
   "cell_type": "code",
   "execution_count": 376,
   "metadata": {},
   "outputs": [
    {
     "data": {
      "image/png": "[encoded data removed]",
      "text/plain": [
       "<Figure size 432x288 with 1 Axes>"
      ]
     },
     "metadata": {},
     "output_type": "display_data"
    }
   ],
   "source": [
    "# Generate a pie plot showing the distribution of female versus male mice using pandas\n",
    "#calculate the sex distribution by taking sex from unique mouse IDs\n",
    "male_mice = combined_results[combined_results['Sex'] == 'Male'].nunique()['Mouse ID']\n",
    "female_mice = combined_results[combined_results['Sex'] == 'Female'].nunique()['Mouse ID']\n",
    "#Create a new dataframe to house the results\n",
    "mouse_sex_distribution = pd.DataFrame({'Sex': [male_mice,female_mice]}, index=['Male','Female'])\n",
    "#plot the results\n",
    "mouse_sex_distribution = mouse_sex_distribution['Sex']\n",
    "# Labels for the sections of our pie chart\n",
    "labels = [\"Male\",\"Female\"]\n",
    "# Input the values of each section of the pie chart from the calculations above\n",
    "values = [125,124]\n",
    "# The colors of each section of the pie chart\n",
    "colors = [\"blue\", \"orange\"]\n",
    "# Explode the Male section\n",
    "explode = (0.1, 0)\n",
    "#add a title\n",
    "plt.title('Sex Distribution')\n",
    "#build the chart\n",
    "mouse_sex_distribution.plot(kind=\"pie\",explode=explode, labels=labels, colors=colors,\n",
    "        autopct=\"%1.1f%%\", shadow=True, startangle=140)\n",
    "plt.show()"
   ]
  },
  {
   "cell_type": "code",
   "execution_count": 388,
   "metadata": {},
   "outputs": [
    {
     "data": {
      "text/plain": [
       "([<matplotlib.patches.Wedge at 0x1a8094a3c48>,\n",
       "  <matplotlib.patches.Wedge at 0x1a809aeac08>],\n",
       " [Text(-0.7655308193487089, -0.9241009493704109, 'Male'),\n",
       "  Text(0.7017365844029833, 0.8470925369228766, 'Female')],\n",
       " [Text(-0.44655964462008013, -0.5390588871327396, '50.2%'),\n",
       "  Text(0.38276540967435446, 0.4620504746852053, '49.8%')])"
      ]
     },
     "execution_count": 388,
     "metadata": {},
     "output_type": "execute_result"
    },
    {
     "data": {
      "image/png": "[encoded data removed]",
      "text/plain": [
       "<Figure size 432x288 with 1 Axes>"
      ]
     },
     "metadata": {},
     "output_type": "display_data"
    }
   ],
   "source": [
    "# Generate a pie plot showing the distribution of female versus male mice using pyplot\n",
    "# Labels for the sections of our pie chart\n",
    "labels = [\"Male\",\"Female\"]\n",
    "# Input the values of each section of the pie chart from the calculations above\n",
    "values = [125,124]\n",
    "# The colors of each section of the pie chart\n",
    "colors = [\"blue\", \"orange\"]\n",
    "# Explode the Male section\n",
    "explode = (0.1, 0)\n",
    "#Title the plot\n",
    "plt.title(\"Sex Distribution\")\n",
    "#plot the chart\n",
    "plt.pie(values, explode=explode, labels=labels, colors=colors,\n",
    "        autopct=\"%1.1f%%\", shadow=True, startangle=140)"
   ]
  },
  {
   "cell_type": "markdown",
   "metadata": {},
   "source": [
    "## Quartiles, outliers and boxplots"
   ]
  },
  {
   "cell_type": "code",
   "execution_count": 414,
   "metadata": {},
   "outputs": [
    {
     "data": {
      "image/png": "[encoded data removed]",
      "text/plain": [
       "<Figure size 432x288 with 1 Axes>"
      ]
     },
     "metadata": {
      "needs_background": "light"
     },
     "output_type": "display_data"
    },
    {
     "name": "stdout",
     "output_type": "stream",
     "text": [
      "The interquartile ranges of Tumor Volume are: Ramicane: 9.1, Capomulin: 7.78, Ceftamin: 15.58 Infubinol: 11.48\n",
      "Values below Ramicane: 17.91, Capomulin: 20.7, Ceftamin: 25.36, Infubinol: 36.83 are potentially outliers.\n",
      "Values above Ramicane: 54.31, Capomulin: 51.83, Ceftamin: 87.67, Infubinol: 82.74 are potentially outliers.\n"
     ]
    }
   ],
   "source": [
    "# Calculate the final tumor volume of each mouse across four of the most promising treatment regimens. \n",
    "#Calculate the IQR and quantitatively determine if there are any potential outliers.\n",
    "\n",
    "# Sort by Timpepoints based on the combined data\n",
    "#and drop duplicates, keeping first value, should be the latest timepoint per mouse\n",
    "timepoint_last = combined_results.sort_values(by=['Timepoint'], ascending=False).drop_duplicates('Mouse ID', keep='first')\n",
    "\n",
    "#sort by tumor volume\n",
    "timepoint_last = timepoint_last.sort_values(by='Tumor Volume (mm3)', ascending = False)\n",
    "\n",
    "\n",
    "# Generate a box plot of the final tumor volume of each mouse across four regimens of interest\n",
    "indexed_results = timepoint_last.set_index('Drug Regimen')\n",
    "#get data for each drug Rammicane, Capomulin, Ceftamin, Infubinol\n",
    "ramicane = indexed_results.filter(like='Ramicane', axis=0)\n",
    "ramicane = ramicane['Tumor Volume (mm3)']\n",
    "\n",
    "capomulin = indexed_results.filter(like='Capomulin', axis=0)\n",
    "capomulin = capomulin['Tumor Volume (mm3)']\n",
    "\n",
    "ceftamin = indexed_results.filter(like='Ceftamin', axis=0)\n",
    "ceftamin = ceftamin['Tumor Volume (mm3)']\n",
    "\n",
    "infubinol = indexed_results.filter(like='Infubinol', axis=0)\n",
    "infubinol = infubinol['Tumor Volume (mm3)']\n",
    "\n",
    "data = [ramicane,capomulin,ceftamin, infubinol]\n",
    "\n",
    "fig1, ax1 = plt.subplots()\n",
    "ax1.set_title('Ramicane, Capomulin, Ceftamin, Infubinol Outliers')\n",
    "ax1.set_ylabel('Tumor Volume (mm3)')\n",
    "ax1.set_xlabel('Ramicane,   Capomulin,   Ceftamin,   Infubinol')\n",
    "\n",
    "ax1.boxplot(data)\n",
    "plt.show()\n",
    "#Determine IQR and calculate quartiles for each drug\n",
    "ramicane_quartiles = ramicane.quantile([.25,.5,.75])\n",
    "lowerqr = ramicane_quartiles[0.25]\n",
    "upperqr = ramicane_quartiles[0.75]\n",
    "iqrr = upperqr-lowerqr\n",
    "lower_boundr = lowerqr - (1.5*iqrr)\n",
    "upper_boundr = upperqr + (1.5*iqrr)\n",
    "\n",
    "capomulin_quartiles = capomulin.quantile([.25,.5,.75])\n",
    "lowerqc1 = capomulin_quartiles[0.25]\n",
    "upperqc1 = capomulin_quartiles[0.75]\n",
    "iqrc1 = upperqc1-lowerqc1\n",
    "lower_boundc1 = lowerqc1 - (1.5*iqrc1)\n",
    "upper_boundc1 = upperqc1 + (1.5*iqrc1)\n",
    "\n",
    "ceftamin_quartiles = ceftamin.quantile([.25,.5,.75])\n",
    "lowerqc2 = ceftamin_quartiles[0.25]\n",
    "upperqc2 = ceftamin_quartiles[0.75]\n",
    "iqrc2 = upperqc2-lowerqc2\n",
    "lower_boundc2 = lowerqc2 - (1.5*iqrc2)\n",
    "upper_boundc2 = upperqc2 + (1.5*iqrc2)\n",
    "\n",
    "infubinol_quartiles = infubinol.quantile([.25,.5,.75])\n",
    "lowerqi = infubinol_quartiles[0.25]\n",
    "upperqi = infubinol_quartiles[0.75]\n",
    "iqri = upperqi-lowerqi\n",
    "lower_boundi = lowerqi - (1.5*iqri)\n",
    "upper_boundi = upperqi + (1.5*iqri)\n",
    "\n",
    "print(f\"The interquartile ranges of Tumor Volume are: Ramicane: {round(iqrr,2)}, Capomulin: {round(iqrc1,2)}, Ceftamin: {round(iqrc2,2)} Infubinol: {round(iqri,2)}\")\n",
    "\n",
    "print(f\"Values below Ramicane: {round(lower_boundr,2)}, Capomulin: {round(lower_boundc1,2)}, Ceftamin: {round(lower_boundc2,2)}, Infubinol: {round(lower_boundi,2)} are potentially outliers.\")\n",
    "print(f\"Values above Ramicane: {round(upper_boundr,2)}, Capomulin: {round(upper_boundc1,2)}, Ceftamin: {round(upper_boundc2,2)}, Infubinol: {round(upper_boundi,2)} are potentially outliers.\")"
   ]
  },
  {
   "cell_type": "markdown",
   "metadata": {},
   "source": [
    "## Line and scatter plots"
   ]
  },
  {
   "cell_type": "code",
   "execution_count": 404,
   "metadata": {},
   "outputs": [
    {
     "data": {
      "image/png": "[encoded data removed]",
      "text/plain": [
       "<Figure size 432x288 with 1 Axes>"
      ]
     },
     "metadata": {
      "needs_background": "light"
     },
     "output_type": "display_data"
    }
   ],
   "source": [
    "# Generate a line plot of time point versus tumor volume for a mouse treated with Capomulin\n",
    "#find a unique mouse id treated with Capomulin\n",
    "#combined_results.groupby('Drug Regimen')[\"Mouse ID\"].unique()\n",
    "index_df = combined_results.set_index('Drug Regimen')\n",
    "capomulin_df = index_df.loc[\"Capomulin\", \"Mouse ID\":\"Tumor Volume (mm3)\"]\n",
    "#found mouse s185\n",
    "#generate a df for just one mouse\n",
    "capomulin_s185 = capomulin_df[capomulin_df['Mouse ID'] == 's185']\n",
    "capomulin_s185\n",
    "#take data for s185\n",
    "time = capomulin_s185['Timepoint'].tolist()\n",
    "tumor_volume = capomulin_s185['Tumor Volume (mm3)'].tolist()\n",
    "#plot the chart\n",
    "plt.plot(time, tumor_volume)\n",
    "plt.xlabel(\"Timepoint\")\n",
    "plt.ylabel(\"Tumor Volume (mm3)\")\n",
    "plt.title(\"Tumor Volume Over Time for Mouse s185 Treated with Capomulin\")\n",
    "plt.show()\n"
   ]
  },
  {
   "cell_type": "code",
   "execution_count": 382,
   "metadata": {},
   "outputs": [
    {
     "data": {
      "text/plain": [
       "<matplotlib.collections.PathCollection at 0x1a87af8ef88>"
      ]
     },
     "execution_count": 382,
     "metadata": {},
     "output_type": "execute_result"
    },
    {
     "data": {
      "image/png": "[encoded data removed]",
      "text/plain": [
       "<Figure size 432x288 with 1 Axes>"
      ]
     },
     "metadata": {
      "needs_background": "light"
     },
     "output_type": "display_data"
    }
   ],
   "source": [
    "# Generate a scatter plot of mouse weight versus average tumor volume for the Capomulin regimen\n",
    "capomulin_df = combined_results.set_index('Drug Regimen').loc[\"Capomulin\",:]\n",
    "#group data by mouse ID\n",
    "mouse_grouped = capomulin_df.groupby('Mouse ID')\n",
    "#create data frames for weight and average volume (weight did not change across timepoint so using unique worked here)\n",
    "capomulin_avg = pd.DataFrame(mouse_grouped['Tumor Volume (mm3)'].mean())\n",
    "capomulin_weight = pd.DataFrame(mouse_grouped['Weight (g)'].unique())\n",
    "\n",
    "#convert the df columns to series\n",
    "avg_tumor = capomulin_avg['Tumor Volume (mm3)'].to_list()\n",
    "weight = capomulin_weight['Weight (g)'].to_list()\n",
    "plt.xlabel(\"Weight\")\n",
    "plt.ylabel(\"Average Tumor Volume (mm3)\")\n",
    "plt.title('Scatter of Mouse Weight & Avg. Tumor Volume')\n",
    "plt.scatter(weight, avg_tumor, marker='o', facecolors='blue',edgecolors='black', s=weight, alpha=0.75)"
   ]
  },
  {
   "cell_type": "code",
   "execution_count": 383,
   "metadata": {},
   "outputs": [],
   "source": [
    "# Calculate the correlation coefficient \n",
    "#and linear regression model for mouse weight and average tumor volume for the Capomulin regimen"
   ]
  },
  {
   "cell_type": "code",
   "execution_count": 413,
   "metadata": {},
   "outputs": [
    {
     "data": {
      "image/png": "[encoded data removed]",
      "text/plain": [
       "<Figure size 432x288 with 1 Axes>"
      ]
     },
     "metadata": {
      "needs_background": "light"
     },
     "output_type": "display_data"
    },
    {
     "name": "stdout",
     "output_type": "stream",
     "text": [
      "The correlation coefficient is 0.841936\n"
     ]
    }
   ],
   "source": [
    "#take values from capomulin from main data set\n",
    "capomulin_df = combined_results.set_index('Drug Regimen').loc[\"Capomulin\",:]\n",
    "#group by unique mouse ID and take the mean of the dataset\n",
    "cap_grouped = capomulin_df.groupby('Mouse ID').mean()\n",
    "#set x and y values for scatter plot and linear regression\n",
    "x_values = cap_grouped['Weight (g)']\n",
    "y_values= cap_grouped['Tumor Volume (mm3)']\n",
    "\n",
    "\n",
    "#plot the scatter plot\n",
    "plt.scatter(x_values, y_values, marker='^', facecolors='red',edgecolors='black', s=weight, alpha=0.75)\n",
    "\n",
    "#find linear regression values for slope intercept rvalue pvalue and stderr\n",
    "(slope, intercept, rvalue, pvalue, stderr) = linregress(x_values, y_values)\n",
    "\n",
    "#set regress values to mx+b\n",
    "regress_values = x_values * slope + intercept\n",
    "#plot the regression line\n",
    "plt.plot(x_values,regress_values,\"r-\")\n",
    "\n",
    "#label the table\n",
    "plt.title('Linear regression of Weight and Average Tumor Volume')\n",
    "plt.xlabel('Weight (g)')\n",
    "plt.ylabel('Tumor Volume (mm3)')\n",
    "\n",
    "plt.show()\n",
    "cc_lib = {'Weight': mouse_grouped['Weight (g)'], 'Avg Volume': mouse_grouped['Tumor Volume (mm3)']}\n",
    "cc_df = pd.DataFrame(cc_lib)\n",
    "#cc_df = cc_df.corr(method='pearson')\n",
    "cc_df.corr(method='pearson')\n",
    "#hard coded this from the above correlation df \n",
    "print(f\"The correlation coefficient is 0.841936\")"
   ]
  },
  {
   "cell_type": "code",
   "execution_count": null,
   "metadata": {},
   "outputs": [],
   "source": []
  }
 ],
 "metadata": {
  "anaconda-cloud": {},
  "kernelspec": {
   "display_name": "Python 3",
   "language": "python",
   "name": "python3"
  },
  "language_info": {
   "codemirror_mode": {
    "name": "ipython",
    "version": 3
   },
   "file_extension": ".py",
   "mimetype": "text/x-python",
   "name": "python",
   "nbconvert_exporter": "python",
   "pygments_lexer": "ipython3",
   "version": "3.7.4"
  }
 },
 "nbformat": 4,
 "nbformat_minor": 2
}
